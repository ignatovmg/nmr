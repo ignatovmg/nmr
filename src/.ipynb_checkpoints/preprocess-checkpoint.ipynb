{
 "cells": [
  {
   "cell_type": "code",
   "execution_count": 6,
   "metadata": {
    "collapsed": true
   },
   "outputs": [],
   "source": [
    "% matplotlib inline\n",
    "\n",
    "import pandas as pd\n",
    "import numpy as np\n",
    "import seaborn as sns\n",
    "import os"
   ]
  },
  {
   "cell_type": "code",
   "execution_count": 7,
   "metadata": {
    "collapsed": false
   },
   "outputs": [],
   "source": [
    "os.chdir('..')\n",
    "perm_path = \"./sandbox/matrix/\"\n",
    "summary = \"./sandbox/groups/\""
   ]
  },
  {
   "cell_type": "code",
   "execution_count": 8,
   "metadata": {
    "collapsed": false
   },
   "outputs": [],
   "source": [
    "noesy = pd.read_csv(\"./data/matrix_versions/noesy.csv\", sep='\\t', header=None)\n",
    "noesy = noesy.iloc[:, 1:4]\n",
    "noesy.columns = list(range(noesy.shape[1]))\n",
    "noesy.iloc[:, 1:3] = noesy.iloc[:, 1:3].applymap(str)"
   ]
  },
  {
   "cell_type": "code",
   "execution_count": 9,
   "metadata": {
    "collapsed": false
   },
   "outputs": [],
   "source": [
    "# find groups of equivalent protons\n",
    "\n",
    "groups = set()\n",
    "for item in list(noesy[1])+list(noesy[2]):\n",
    "    for chunk in item.split('|'):\n",
    "        groups.add(chunk)\n",
    "        \n",
    "f = open(summary+'eq_groups', 'w')\n",
    "counter = 0\n",
    "groups_dict = {}\n",
    "for item in groups:\n",
    "    if ';' in item:\n",
    "        f.write(\"%i\\t%s\\n\" % (counter, '\\t'.join(item.split(';'))))\n",
    "        #groups_dict.update({counter: tuple(map(int, item.split(';')))})\n",
    "    else:\n",
    "        f.write(\"%i\\t%s\\n\" % (counter, item))\n",
    "        #groups_dict.update({counter: tuple([int(item)])})\n",
    "    groups_dict.update({item: counter})\n",
    "    counter+=1"
   ]
  },
  {
   "cell_type": "code",
   "execution_count": 10,
   "metadata": {
    "collapsed": false
   },
   "outputs": [],
   "source": [
    "noesy.iloc[:, 1:] = noesy.iloc[:, 1:].applymap(lambda x: '|'.join([str(groups_dict[i]) for i in x.split('|')]))"
   ]
  },
  {
   "cell_type": "code",
   "execution_count": 11,
   "metadata": {
    "collapsed": false
   },
   "outputs": [],
   "source": [
    "swap_groups = {}\n",
    "\n",
    "for i in range(noesy.shape[0]):\n",
    "    for j in range(1, 3):\n",
    "        if '|' in noesy.iloc[i, j]:\n",
    "            key = tuple(noesy.iloc[i, j].split('|'))\n",
    "            if (key[1], key[0]) in swap_groups.keys():\n",
    "                key = (key[1], key[0])\n",
    "            value = [(i, j)]\n",
    "            if key in swap_groups.keys():  \n",
    "                value = swap_groups[key]+[(i, j)]\n",
    "            swap_groups.update({key: value})"
   ]
  },
  {
   "cell_type": "code",
   "execution_count": 12,
   "metadata": {
    "collapsed": false
   },
   "outputs": [],
   "source": [
    "def get_perms(n):\n",
    "    if n == 1:\n",
    "        return [[0], [1]]\n",
    "    a = get_perms(int(n/2.))\n",
    "    b = get_perms(n - int(n/2.))\n",
    "    c = []\n",
    "    for i in a:\n",
    "        for j in b:\n",
    "            c.append(i+j)\n",
    "    return c\n",
    "\n",
    "def do_swap(df, cells):\n",
    "    for i, j in cells:\n",
    "        val = df.iloc[i, j].split('|')\n",
    "        df.iloc[i, j] = val[1]+'|'+val[0]\n",
    "    return df\n",
    "        \n",
    "def print_matrix(df):\n",
    "    return pd.concat([df.iloc[:, 1:].applymap(lambda x: x.split('|')[0]), df.iloc[:, 0]], axis=1)\n",
    "\n",
    "perms = get_perms(len(swap_groups))\n",
    "pairs = swap_groups.keys()\n",
    "for perm in perms:\n",
    "    noesy_tmp = noesy.copy()\n",
    "    for flag, key in zip(perm, pairs):\n",
    "        if flag == 1:\n",
    "            noesy_tmp = do_swap(noesy_tmp, swap_groups[key])\n",
    "    print_matrix(noesy_tmp).to_csv(perm_path+''.join([str(x) for x in perm]), sep='\\t', header=None, index=False)\n",
    "            \n"
   ]
  },
  {
   "cell_type": "code",
   "execution_count": 13,
   "metadata": {
    "collapsed": false
   },
   "outputs": [],
   "source": [
    "f = open(summary+'swap_grps', 'w')\n",
    "for i, j in pairs:\n",
    "    f.write('%i\\t%i\\n' % (int(i), int(j)))\n",
    "f.close()"
   ]
  }
 ],
 "metadata": {
  "kernelspec": {
   "display_name": "Python 3",
   "language": "python",
   "name": "python3"
  },
  "language_info": {
   "codemirror_mode": {
    "name": "ipython",
    "version": 3
   },
   "file_extension": ".py",
   "mimetype": "text/x-python",
   "name": "python",
   "nbconvert_exporter": "python",
   "pygments_lexer": "ipython3",
   "version": "3.5.1"
  }
 },
 "nbformat": 4,
 "nbformat_minor": 0
}
