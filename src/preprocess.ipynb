{
 "cells": [
  {
   "cell_type": "code",
   "execution_count": 57,
   "metadata": {
    "collapsed": false
   },
   "outputs": [],
   "source": [
    "import pandas as pd\n",
    "import numpy as np\n",
    "\n",
    "comp = pd.read_csv(\"../sandbox/computed_matrix\", sep = '\\t', header=None)\n",
    "for i in range(comp.shape[0]):\n",
    "    comp.iloc[i, i] = 0.0\n",
    "    \n",
    "noesy=pd.read_csv(\"../data/noesy2.csv\", sep = ',')\n",
    "\n",
    "groups = {}\n",
    "groups_file = open(\"../sandbox/groups/eq_groups\", 'r')\n",
    "for line in groups_file.readlines():\n",
    "    nums = line.split()\n",
    "    groups.update({';'.join(nums[1:]) : int(nums[0])})\n",
    "groups_file.close()\n",
    "groups\n",
    "\n",
    "freqs = list(noesy.iloc[:, 1])+list(noesy.iloc[:, 2])\n",
    "names = list(noesy.iloc[:, 4])+list(noesy.iloc[:, 5])\n",
    "\n",
    "group2freq = [-1]*len(groups)\n",
    "\n",
    "for freq, name in zip(freqs, names):\n",
    "    group = name.split('|')[0]\n",
    "    group2freq[groups[group]] = freq\n",
    "    \n",
    "def sym(m):\n",
    "    for i in range(m.shape[0]):\n",
    "        for j in range(i, m.shape[0]):\n",
    "            if np.isnan(m.iloc[i, j]):\n",
    "                m.iloc[i, j] = m.iloc[j, i] \n",
    "            if np.isnan(m.iloc[j, i]):\n",
    "                m.iloc[j, i] = m.iloc[i, j]\n",
    "    return m\n",
    "\n",
    "def assign_freqs(matrix, freqs):\n",
    "\tmatrix.columns = freqs\n",
    "\tmatrix.index = freqs\n",
    "\tmatrix = matrix.sort_index(0)\n",
    "\tmatrix = matrix.sort_index(1)\n",
    "\t\n",
    "\tmatrix.columns = ['{:.3f}'.format(x) for x in matrix.columns]\n",
    "\tmatrix.index = ['{:.3f}'.format(x) for x in matrix.index]\n",
    "\t\n",
    "\tfor i in range(matrix.shape[0]):\n",
    "\t\tfor j in range(0, i+1):\n",
    "\t\t\tmatrix.iloc[i, j] = np.NaN\n",
    "\t\t\t\n",
    "\tmatrix = pd.DataFrame(matrix.stack())\n",
    "\t#matrix = matrix.dropna()\n",
    "\treturn matrix\n",
    "     \n",
    "comp = assign_freqs(comp, group2freq)\n",
    "\n",
    "exp = pd.read_csv(\"../sandbox/matrix/00000\", sep = '\\t', header=None)\n",
    "exp = exp.pivot(index=0, columns=1, values=2)\n",
    "empty = pd.DataFrame(0, columns=range(len(groups)), index=range(len(groups)))\n",
    "exp = empty+exp\n",
    "sym(exp)\n",
    "exp = assign_freqs(exp, group2freq)\n",
    "\n",
    "comp[1] = exp\n",
    "comp = comp.dropna()\n",
    "comp = comp.reset_index()\n",
    "comp.columns = ['f1', 'f2', 'computed', 'experiment']\n",
    "comp.to_csv('../sandbox/volume2freqs', sep='\\t', index=None)\n",
    "\n",
    "#reindexed.apply(lambda x: '{:.6f}'.format(x)).to_csv('sandbox/volume2freqs', sep='\\t')\n"
   ]
  },
  {
   "cell_type": "code",
   "execution_count": null,
   "metadata": {
    "collapsed": true
   },
   "outputs": [],
   "source": []
  }
 ],
 "metadata": {
  "anaconda-cloud": {},
  "kernelspec": {
   "display_name": "Python [default]",
   "language": "python",
   "name": "python3"
  },
  "language_info": {
   "codemirror_mode": {
    "name": "ipython",
    "version": 3
   },
   "file_extension": ".py",
   "mimetype": "text/x-python",
   "name": "python",
   "nbconvert_exporter": "python",
   "pygments_lexer": "ipython3",
   "version": "3.5.2"
  }
 },
 "nbformat": 4,
 "nbformat_minor": 0
}
